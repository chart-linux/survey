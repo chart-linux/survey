{
 "cells": [
  {
   "cell_type": "code",
   "execution_count": 1,
   "metadata": {
    "collapsed": false
   },
   "outputs": [
    {
     "data": {
      "text/plain": [
       "true"
      ]
     },
     "execution_count": 1,
     "metadata": {},
     "output_type": "execute_result"
    }
   ],
   "source": [
    "require 'daru'"
   ]
  },
  {
   "cell_type": "markdown",
   "metadata": {},
   "source": [
    "## Idioms"
   ]
  },
  {
   "cell_type": "code",
   "execution_count": 2,
   "metadata": {
    "collapsed": false
   },
   "outputs": [
    {
     "data": {
      "text/html": [
       "<table><tr><th colspan=\"4\">Daru::DataFrame:70160137620680  rows: 4  cols: 3</th></tr><tr><th></th><th>AAA</th><th>BBB</th><th>CCC</th></tr><tr><td>0</td><td>4</td><td>10</td><td>100</td></tr><tr><td>1</td><td>5</td><td>20</td><td>50</td></tr><tr><td>2</td><td>6</td><td>30</td><td>-30</td></tr><tr><td>3</td><td>7</td><td>40</td><td>-50</td></tr></table>"
      ],
      "text/plain": [
       "\n",
       "#<Daru::DataFrame:70160137620680 @name = 025e2f51-bb38-4d1a-9fd7-e50071eca7e2 @size = 4>\n",
       "                  AAA        BBB        CCC \n",
       "         0          4         10        100 \n",
       "         1          5         20         50 \n",
       "         2          6         30        -30 \n",
       "         3          7         40        -50 \n"
      ]
     },
     "execution_count": 2,
     "metadata": {},
     "output_type": "execute_result"
    }
   ],
   "source": [
    "df = Daru::DataFrame.new({\n",
    "  'AAA' => [4,5,6,7],\n",
    "  'BBB' => [10,20,30,40],\n",
    "  'CCC' => [100,50,-30,-50]\n",
    "  })"
   ]
  },
  {
   "cell_type": "markdown",
   "metadata": {},
   "source": [
    "### if-then..."
   ]
  },
  {
   "cell_type": "code",
   "execution_count": 3,
   "metadata": {
    "collapsed": false
   },
   "outputs": [
    {
     "data": {
      "text/html": [
       "<table><tr><th colspan=\"4\">Daru::DataFrame:70160137537300  rows: 3  cols: 3</th></tr><tr><th></th><th>AAA</th><th>BBB</th><th>CCC</th></tr><tr><td>1</td><td>5</td><td>20</td><td>50</td></tr><tr><td>2</td><td>6</td><td>30</td><td>-30</td></tr><tr><td>3</td><td>7</td><td>40</td><td>-50</td></tr></table>"
      ],
      "text/plain": [
       "\n",
       "#<Daru::DataFrame:70160137537300 @name = 285780a5-1239-461b-ac9e-d4ac6ce7ec7a @size = 3>\n",
       "                  AAA        BBB        CCC \n",
       "         1          5         20         50 \n",
       "         2          6         30        -30 \n",
       "         3          7         40        -50 \n"
      ]
     },
     "execution_count": 3,
     "metadata": {},
     "output_type": "execute_result"
    }
   ],
   "source": [
    "df.where(df['AAA'].gteq(5))"
   ]
  },
  {
   "cell_type": "markdown",
   "metadata": {},
   "source": [
    "### splitting"
   ]
  },
  {
   "cell_type": "code",
   "execution_count": 4,
   "metadata": {
    "collapsed": false
   },
   "outputs": [
    {
     "data": {
      "text/html": [
       "<table><tr><th colspan=\"4\">Daru::DataFrame:70198582983880  rows: 4  cols: 3</th></tr><tr><th></th><th>AAA</th><th>BBB</th><th>CCC</th></tr><tr><td>0</td><td>4</td><td>10</td><td>100</td></tr><tr><td>1</td><td>5</td><td>20</td><td>50</td></tr><tr><td>2</td><td>6</td><td>30</td><td>-30</td></tr><tr><td>3</td><td>7</td><td>40</td><td>-50</td></tr></table>"
      ],
      "text/plain": [
       "\n",
       "#<Daru::DataFrame:70198582983880 @name = c6403e8d-c3b1-4593-9a02-979374fcfda2 @size = 4>\n",
       "                  AAA        BBB        CCC \n",
       "         0          4         10        100 \n",
       "         1          5         20         50 \n",
       "         2          6         30        -30 \n",
       "         3          7         40        -50 \n"
      ]
     },
     "execution_count": 4,
     "metadata": {},
     "output_type": "execute_result"
    }
   ],
   "source": [
    "df = Daru::DataFrame.new({\n",
    "  'AAA' => [4,5,6,7],\n",
    "  'BBB' => [10,20,30,40],\n",
    "  'CCC' => [100,50,-30,-50]\n",
    "  })"
   ]
  },
  {
   "cell_type": "code",
   "execution_count": 5,
   "metadata": {
    "collapsed": false
   },
   "outputs": [
    {
     "data": {
      "text/html": [
       "<table><tr><th colspan=\"4\">Daru::DataFrame:70198582912800  rows: 2  cols: 3</th></tr><tr><th></th><th>AAA</th><th>BBB</th><th>CCC</th></tr><tr><td>0</td><td>4</td><td>10</td><td>100</td></tr><tr><td>1</td><td>5</td><td>20</td><td>50</td></tr></table>"
      ],
      "text/plain": [
       "\n",
       "#<Daru::DataFrame:70198582912800 @name = ff6e971b-20a3-438b-9a8e-1920fe7fe218 @size = 2>\n",
       "                  AAA        BBB        CCC \n",
       "         0          4         10        100 \n",
       "         1          5         20         50 \n"
      ]
     },
     "execution_count": 5,
     "metadata": {},
     "output_type": "execute_result"
    }
   ],
   "source": [
    "#dflow = df[df.AAA <= 5]\n",
    "dflow = df.where(df['AAA'].lteq(5))"
   ]
  },
  {
   "cell_type": "code",
   "execution_count": 6,
   "metadata": {
    "collapsed": false
   },
   "outputs": [
    {
     "data": {
      "text/html": [
       "<table><tr><th colspan=\"4\">Daru::DataFrame:70198582796960  rows: 2  cols: 3</th></tr><tr><th></th><th>AAA</th><th>BBB</th><th>CCC</th></tr><tr><td>2</td><td>6</td><td>30</td><td>-30</td></tr><tr><td>3</td><td>7</td><td>40</td><td>-50</td></tr></table>"
      ],
      "text/plain": [
       "\n",
       "#<Daru::DataFrame:70198582796960 @name = cfa034b7-fa6d-4f9e-8056-261067d4179b @size = 2>\n",
       "                  AAA        BBB        CCC \n",
       "         2          6         30        -30 \n",
       "         3          7         40        -50 \n"
      ]
     },
     "execution_count": 6,
     "metadata": {},
     "output_type": "execute_result"
    }
   ],
   "source": [
    "dfhigh = df.where(df['AAA'].gt(5))"
   ]
  },
  {
   "cell_type": "markdown",
   "metadata": {},
   "source": [
    "### Building Criteria"
   ]
  },
  {
   "cell_type": "code",
   "execution_count": 3,
   "metadata": {
    "collapsed": false
   },
   "outputs": [
    {
     "data": {
      "text/html": [
       "<table><tr><th colspan=\"4\">Daru::DataFrame:70276282122140  rows: 4  cols: 3</th></tr><tr><th></th><th>AAA</th><th>BBB</th><th>CCC</th></tr><tr><td>0</td><td>4</td><td>10</td><td>100</td></tr><tr><td>1</td><td>5</td><td>20</td><td>50</td></tr><tr><td>2</td><td>6</td><td>30</td><td>-30</td></tr><tr><td>3</td><td>7</td><td>40</td><td>-50</td></tr></table>"
      ],
      "text/plain": [
       "\n",
       "#<Daru::DataFrame:70276282122140 @name = a20002ea-4758-4a93-9a1a-6fe6500d4493 @size = 4>\n",
       "                  AAA        BBB        CCC \n",
       "         0          4         10        100 \n",
       "         1          5         20         50 \n",
       "         2          6         30        -30 \n",
       "         3          7         40        -50 \n"
      ]
     },
     "execution_count": 3,
     "metadata": {},
     "output_type": "execute_result"
    }
   ],
   "source": [
    "df = Daru::DataFrame.new({\n",
    "  'AAA' => [4,5,6,7],\n",
    "  'BBB' => [10,20,30,40],\n",
    "  'CCC' => [100,50,-30,-50]\n",
    "  })"
   ]
  },
  {
   "cell_type": "code",
   "execution_count": 16,
   "metadata": {
    "collapsed": false
   },
   "outputs": [
    {
     "data": {
      "text/html": [
       "<table><tr><th colspan=\"2\">Daru::Vector:70198560516280  size: 2</th></tr><tr><th> </th><th>nil</th></tr><tr><td>0</td><td>4</td></tr><tr><td>1</td><td>5</td></tr></table>"
      ],
      "text/plain": [
       "\n",
       "#<Daru::Vector:70198560516280 @name = nil @metadata = {} @size = 2 >\n",
       "    nil\n",
       "  0   4\n",
       "  1   5\n"
      ]
     },
     "execution_count": 16,
     "metadata": {},
     "output_type": "execute_result"
    }
   ],
   "source": [
    "df.where(df['BBB'].lt(25) & df['CCC'].gteq(-40))['AAA']"
   ]
  },
  {
   "cell_type": "code",
   "execution_count": 7,
   "metadata": {
    "collapsed": false
   },
   "outputs": [
    {
     "data": {
      "text/html": [
       "<table><tr><th colspan=\"2\">Daru::Vector:70276290943060  size: 4</th></tr><tr><th> </th><th>nil</th></tr><tr><td>0</td><td>4</td></tr><tr><td>1</td><td>5</td></tr><tr><td>2</td><td>6</td></tr><tr><td>3</td><td>7</td></tr></table>"
      ],
      "text/plain": [
       "\n",
       "#<Daru::Vector:70276290943060 @name = nil @metadata = {} @size = 4 >\n",
       "    nil\n",
       "  0   4\n",
       "  1   5\n",
       "  2   6\n",
       "  3   7\n"
      ]
     },
     "execution_count": 7,
     "metadata": {},
     "output_type": "execute_result"
    }
   ],
   "source": [
    "df.where(df['BBB'].gt(25) | df['CCC'].gteq(-40))['AAA']"
   ]
  },
  {
   "cell_type": "markdown",
   "metadata": {
    "collapsed": true
   },
   "source": [
    "## Selection"
   ]
  },
  {
   "cell_type": "markdown",
   "metadata": {},
   "source": [
    "### DataFrames"
   ]
  },
  {
   "cell_type": "code",
   "execution_count": 16,
   "metadata": {
    "collapsed": false
   },
   "outputs": [
    {
     "data": {
      "text/plain": [
       "{\"AAA\"=>[4, 5, 6, 7], \"BBB\"=>[10, 20, 30, 40], \"CCC\"=>[100, 50, -30, -50]}"
      ]
     },
     "execution_count": 16,
     "metadata": {},
     "output_type": "execute_result"
    }
   ],
   "source": [
    "data = {'AAA' => [4,5,6,7], 'BBB' => [10,20,30,40], 'CCC' => [100,50,-30,-50]}"
   ]
  },
  {
   "cell_type": "code",
   "execution_count": 17,
   "metadata": {
    "collapsed": false
   },
   "outputs": [
    {
     "data": {
      "text/html": [
       "<table><tr><th colspan=\"4\">Daru::DataFrame:70160138474760  rows: 4  cols: 3</th></tr><tr><th></th><th>AAA</th><th>BBB</th><th>CCC</th></tr><tr><td>foo</td><td>4</td><td>10</td><td>100</td></tr><tr><td>bar</td><td>5</td><td>20</td><td>50</td></tr><tr><td>boo</td><td>6</td><td>30</td><td>-30</td></tr><tr><td>kar</td><td>7</td><td>40</td><td>-50</td></tr></table>"
      ],
      "text/plain": [
       "\n",
       "#<Daru::DataFrame:70160138474760 @name = ce784401-3dae-4d71-8f7c-b4657e3994a7 @size = 4>\n",
       "                  AAA        BBB        CCC \n",
       "       foo          4         10        100 \n",
       "       bar          5         20         50 \n",
       "       boo          6         30        -30 \n",
       "       kar          7         40        -50 \n"
      ]
     },
     "execution_count": 17,
     "metadata": {},
     "output_type": "execute_result"
    }
   ],
   "source": [
    "df = Daru::DataFrame.new(data, index: [:foo, :bar, :boo, :kar])"
   ]
  },
  {
   "cell_type": "markdown",
   "metadata": {},
   "source": [
    "There are 2 explicit slicing methods,"
   ]
  },
  {
   "cell_type": "markdown",
   "metadata": {},
   "source": [
    "1 Label-oriented"
   ]
  },
  {
   "cell_type": "code",
   "execution_count": 18,
   "metadata": {
    "collapsed": false
   },
   "outputs": [
    {
     "data": {
      "text/html": [
       "<table><tr><th colspan=\"4\">Daru::DataFrame:70160129620540  rows: 3  cols: 3</th></tr><tr><th></th><th>AAA</th><th>BBB</th><th>CCC</th></tr><tr><td>bar</td><td>5</td><td>20</td><td>50</td></tr><tr><td>boo</td><td>6</td><td>30</td><td>-30</td></tr><tr><td>kar</td><td>7</td><td>40</td><td>-50</td></tr></table>"
      ],
      "text/plain": [
       "\n",
       "#<Daru::DataFrame:70160129620540 @name = ce784401-3dae-4d71-8f7c-b4657e3994a7 @size = 3>\n",
       "                  AAA        BBB        CCC \n",
       "       bar          5         20         50 \n",
       "       boo          6         30        -30 \n",
       "       kar          7         40        -50 \n"
      ]
     },
     "execution_count": 18,
     "metadata": {},
     "output_type": "execute_result"
    }
   ],
   "source": [
    "df.row[:bar..:kar]"
   ]
  },
  {
   "cell_type": "markdown",
   "metadata": {},
   "source": [
    "2 Positional-oriented"
   ]
  },
  {
   "cell_type": "code",
   "execution_count": 20,
   "metadata": {
    "collapsed": false
   },
   "outputs": [
    {
     "data": {
      "text/html": [
       "<table><tr><th colspan=\"4\">Daru::DataFrame:70160138211240  rows: 3  cols: 3</th></tr><tr><th></th><th>AAA</th><th>BBB</th><th>CCC</th></tr><tr><td>bar</td><td>5</td><td>20</td><td>50</td></tr><tr><td>boo</td><td>6</td><td>30</td><td>-30</td></tr><tr><td>kar</td><td>7</td><td>40</td><td>-50</td></tr></table>"
      ],
      "text/plain": [
       "\n",
       "#<Daru::DataFrame:70160138211240 @name = ce784401-3dae-4d71-8f7c-b4657e3994a7 @size = 3>\n",
       "                  AAA        BBB        CCC \n",
       "       bar          5         20         50 \n",
       "       boo          6         30        -30 \n",
       "       kar          7         40        -50 \n"
      ]
     },
     "execution_count": 20,
     "metadata": {},
     "output_type": "execute_result"
    }
   ],
   "source": [
    "df.row[1..3]"
   ]
  },
  {
   "cell_type": "markdown",
   "metadata": {},
   "source": [
    "## Grouping"
   ]
  },
  {
   "cell_type": "code",
   "execution_count": 28,
   "metadata": {
    "collapsed": false
   },
   "outputs": [
    {
     "data": {
      "text/html": [
       "<table><tr><th colspan=\"5\">Daru::DataFrame:70160154193380  rows: 7  cols: 4</th></tr><tr><th></th><th>adult</th><th>animal</th><th>size</th><th>weight</th></tr><tr><td>0</td><td>false</td><td>cat</td><td>S</td><td>8</td></tr><tr><td>1</td><td>false</td><td>dog</td><td>S</td><td>10</td></tr><tr><td>2</td><td>false</td><td>cat</td><td>M</td><td>11</td></tr><tr><td>3</td><td>false</td><td>fish</td><td>M</td><td>1</td></tr><tr><td>4</td><td>false</td><td>dog</td><td>M</td><td>20</td></tr><tr><td>5</td><td>true</td><td>cat</td><td>L</td><td>12</td></tr><tr><td>6</td><td>true</td><td>cat</td><td>L</td><td>12</td></tr></table>"
      ],
      "text/plain": [
       "\n",
       "#<Daru::DataFrame:70160154193380 @name = 4207ecae-2357-4bc6-9d0e-cc18c96e7e7f @size = 7>\n",
       "                adult     animal       size     weight \n",
       "         0        nil        cat          S          8 \n",
       "         1        nil        dog          S         10 \n",
       "         2        nil        cat          M         11 \n",
       "         3        nil       fish          M          1 \n",
       "         4        nil        dog          M         20 \n",
       "         5       true        cat          L         12 \n",
       "         6       true        cat          L         12 \n"
      ]
     },
     "execution_count": 28,
     "metadata": {},
     "output_type": "execute_result"
    }
   ],
   "source": [
    "df = Daru::DataFrame.new({'animal': 'cat dog cat fish dog cat cat'.split,\n",
    "  'weight': [8, 10, 11, 1, 20, 12, 12],\n",
    "  'size': 'SSMMMLL'.split(//),\n",
    "  'adult': [false] * 5 + [true] * 2\n",
    "  })"
   ]
  },
  {
   "cell_type": "code",
   "execution_count": 32,
   "metadata": {
    "collapsed": false
   },
   "outputs": [
    {
     "data": {
      "text/plain": [
       "#<Daru::Core::GroupBy:0x007f9edc22b7a8 @groups={[\"cat\"]=>[0, 2, 5, 6], [\"dog\"]=>[1, 4], [\"fish\"]=>[3]}, @non_group_vectors=[:adult, :size, :weight], @context=\n",
       "#<Daru::DataFrame:70160154193380 @name = 4207ecae-2357-4bc6-9d0e-cc18c96e7e7f @size = 7>\n",
       "                adult     animal       size     weight \n",
       "         0        nil        cat          S          8 \n",
       "         1        nil        dog          S         10 \n",
       "         2        nil        cat          M         11 \n",
       "         3        nil       fish          M          1 \n",
       "         4        nil        dog          M         20 \n",
       "         5       true        cat          L         12 \n",
       "         6       true        cat          L         12 \n",
       ">"
      ]
     },
     "execution_count": 32,
     "metadata": {},
     "output_type": "execute_result"
    }
   ],
   "source": [
    "gb = df.group_by(:animal)"
   ]
  },
  {
   "cell_type": "code",
   "execution_count": 38,
   "metadata": {
    "collapsed": false
   },
   "outputs": [
    {
     "data": {
      "text/html": [
       "<table><tr><th colspan=\"5\">Daru::DataFrame:70160136952240  rows: 4  cols: 4</th></tr><tr><th></th><th>adult</th><th>animal</th><th>size</th><th>weight</th></tr><tr><td>0</td><td>false</td><td>cat</td><td>S</td><td>8</td></tr><tr><td>2</td><td>false</td><td>cat</td><td>M</td><td>11</td></tr><tr><td>5</td><td>true</td><td>cat</td><td>L</td><td>12</td></tr><tr><td>6</td><td>true</td><td>cat</td><td>L</td><td>12</td></tr></table>"
      ],
      "text/plain": [
       "\n",
       "#<Daru::DataFrame:70160136952240 @name = e860b98a-12bf-4179-adcd-27d1c38bfd94 @size = 4>\n",
       "                adult     animal       size     weight \n",
       "         0        nil        cat          S          8 \n",
       "         2        nil        cat          M         11 \n",
       "         5       true        cat          L         12 \n",
       "         6       true        cat          L         12 \n"
      ]
     },
     "execution_count": 38,
     "metadata": {},
     "output_type": "execute_result"
    }
   ],
   "source": [
    "gb.get_group([\"cat\"])"
   ]
  },
  {
   "cell_type": "code",
   "execution_count": null,
   "metadata": {
    "collapsed": true
   },
   "outputs": [],
   "source": []
  }
 ],
 "metadata": {
  "kernelspec": {
   "display_name": "Ruby 2.3.1",
   "language": "ruby",
   "name": "ruby"
  },
  "language_info": {
   "file_extension": ".rb",
   "mimetype": "application/x-ruby",
   "name": "ruby",
   "version": "2.3.1"
  }
 },
 "nbformat": 4,
 "nbformat_minor": 0
}
