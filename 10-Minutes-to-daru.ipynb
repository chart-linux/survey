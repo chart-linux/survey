{
 "cells": [
  {
   "cell_type": "code",
   "execution_count": 2,
   "metadata": {
    "collapsed": false
   },
   "outputs": [
    {
     "data": {
      "text/plain": [
       "true"
      ]
     },
     "execution_count": 2,
     "metadata": {},
     "output_type": "execute_result"
    }
   ],
   "source": [
    "require 'daru'"
   ]
  },
  {
   "cell_type": "code",
   "execution_count": 3,
   "metadata": {
    "collapsed": false
   },
   "outputs": [
    {
     "data": {
      "text/plain": [
       "true"
      ]
     },
     "execution_count": 3,
     "metadata": {},
     "output_type": "execute_result"
    }
   ],
   "source": [
    "require 'numo/narray'"
   ]
  },
  {
   "cell_type": "code",
   "execution_count": 4,
   "metadata": {
    "collapsed": false
   },
   "outputs": [
    {
     "data": {
      "text/plain": [
       "#<DateTimeIndex:70271743466460 offset=D periods=6 data=[2013-01-01T00:00:00+00:00...2013-01-06T00:00:00+00:00]>"
      ]
     },
     "execution_count": 4,
     "metadata": {},
     "output_type": "execute_result"
    }
   ],
   "source": [
    "dates = Daru::DateTimeIndex.date_range(start: '2013-1-1', periods: 6)"
   ]
  },
  {
   "cell_type": "code",
   "execution_count": 5,
   "metadata": {
    "collapsed": false
   },
   "outputs": [
    {
     "data": {
      "text/html": [
       "<table><tr><th colspan=\"5\">Daru::DataFrame:70271742747980  rows: 6  cols: 4</th></tr><tr><th></th><th>A</th><th>B</th><th>C</th><th>D</th></tr><tr><td>2013-01-01T00:00:00+00:00</td><td>0.061754467473337606</td><td>0.5399479735615317</td><td>0.9041210489574686</td><td>0.4115760120668863</td></tr><tr><td>2013-01-02T00:00:00+00:00</td><td>0.3730667918557394</td><td>0.7378153376075303</td><td>0.47864410894135884</td><td>0.2925320556038204</td></tr><tr><td>2013-01-03T00:00:00+00:00</td><td>0.7948152254767612</td><td>0.16508858475391092</td><td>0.34296938347336964</td><td>0.8694206502326989</td></tr><tr><td>2013-01-04T00:00:00+00:00</td><td>0.20104215334808748</td><td>0.05088271170047556</td><td>0.16454075387233086</td><td>0.08549837640383548</td></tr><tr><td>2013-01-05T00:00:00+00:00</td><td>0.11604089423912954</td><td>0.10806450181653031</td><td>0.7460304189852336</td><td>0.6889654239569857</td></tr><tr><td>2013-01-06T00:00:00+00:00</td><td>0.34403221153354824</td><td>0.06870794678973079</td><td>0.13899407520672596</td><td>0.15997746475118688</td></tr></table>"
      ],
      "text/plain": [
       "\n",
       "#<Daru::DataFrame:70271742747980 @name = 593eb68a-e75a-4f29-9d54-a20f05d5183d @size = 6>\n",
       "                    A          B          C          D \n",
       "2013-01-01 0.06175446 0.53994797 0.90412104 0.41157601 \n",
       "2013-01-02 0.37306679 0.73781533 0.47864410 0.29253205 \n",
       "2013-01-03 0.79481522 0.16508858 0.34296938 0.86942065 \n",
       "2013-01-04 0.20104215 0.05088271 0.16454075 0.08549837 \n",
       "2013-01-05 0.11604089 0.10806450 0.74603041 0.68896542 \n",
       "2013-01-06 0.34403221 0.06870794 0.13899407 0.15997746 \n"
      ]
     },
     "execution_count": 5,
     "metadata": {},
     "output_type": "execute_result"
    }
   ],
   "source": [
    "df = Daru::DataFrame.new(Numo::DFloat.new(4,6).rand.to_a, order: [:A, :B, :C, :D], index: dates)"
   ]
  },
  {
   "cell_type": "markdown",
   "metadata": {},
   "source": [
    "## Viewing Data"
   ]
  },
  {
   "cell_type": "markdown",
   "metadata": {},
   "source": [
    "See the top rows of the frame"
   ]
  },
  {
   "cell_type": "code",
   "execution_count": 6,
   "metadata": {
    "collapsed": false
   },
   "outputs": [
    {
     "data": {
      "text/html": [
       "<table><tr><th colspan=\"5\">Daru::DataFrame:70271719137980  rows: 6  cols: 4</th></tr><tr><th></th><th>A</th><th>B</th><th>C</th><th>D</th></tr><tr><td>2013-01-01T00:00:00+00:00</td><td>0.061754467473337606</td><td>0.5399479735615317</td><td>0.9041210489574686</td><td>0.4115760120668863</td></tr><tr><td>2013-01-02T00:00:00+00:00</td><td>0.3730667918557394</td><td>0.7378153376075303</td><td>0.47864410894135884</td><td>0.2925320556038204</td></tr><tr><td>2013-01-03T00:00:00+00:00</td><td>0.7948152254767612</td><td>0.16508858475391092</td><td>0.34296938347336964</td><td>0.8694206502326989</td></tr><tr><td>2013-01-04T00:00:00+00:00</td><td>0.20104215334808748</td><td>0.05088271170047556</td><td>0.16454075387233086</td><td>0.08549837640383548</td></tr><tr><td>2013-01-05T00:00:00+00:00</td><td>0.11604089423912954</td><td>0.10806450181653031</td><td>0.7460304189852336</td><td>0.6889654239569857</td></tr><tr><td>2013-01-06T00:00:00+00:00</td><td>0.34403221153354824</td><td>0.06870794678973079</td><td>0.13899407520672596</td><td>0.15997746475118688</td></tr></table>"
      ],
      "text/plain": [
       "\n",
       "#<Daru::DataFrame:70271719137980 @name = 593eb68a-e75a-4f29-9d54-a20f05d5183d @size = 6>\n",
       "                    A          B          C          D \n",
       "2013-01-01 0.06175446 0.53994797 0.90412104 0.41157601 \n",
       "2013-01-02 0.37306679 0.73781533 0.47864410 0.29253205 \n",
       "2013-01-03 0.79481522 0.16508858 0.34296938 0.86942065 \n",
       "2013-01-04 0.20104215 0.05088271 0.16454075 0.08549837 \n",
       "2013-01-05 0.11604089 0.10806450 0.74603041 0.68896542 \n",
       "2013-01-06 0.34403221 0.06870794 0.13899407 0.15997746 \n"
      ]
     },
     "execution_count": 6,
     "metadata": {},
     "output_type": "execute_result"
    }
   ],
   "source": [
    "df.head"
   ]
  },
  {
   "cell_type": "markdown",
   "metadata": {},
   "source": [
    "See the bottom rows of the frame"
   ]
  },
  {
   "cell_type": "code",
   "execution_count": 7,
   "metadata": {
    "collapsed": false
   },
   "outputs": [
    {
     "data": {
      "text/html": [
       "<table><tr><th colspan=\"5\">Daru::DataFrame:70271718941880  rows: 3  cols: 4</th></tr><tr><th></th><th>A</th><th>B</th><th>C</th><th>D</th></tr><tr><td>2013-01-04T00:00:00+00:00</td><td>0.20104215334808748</td><td>0.05088271170047556</td><td>0.16454075387233086</td><td>0.08549837640383548</td></tr><tr><td>2013-01-05T00:00:00+00:00</td><td>0.11604089423912954</td><td>0.10806450181653031</td><td>0.7460304189852336</td><td>0.6889654239569857</td></tr><tr><td>2013-01-06T00:00:00+00:00</td><td>0.34403221153354824</td><td>0.06870794678973079</td><td>0.13899407520672596</td><td>0.15997746475118688</td></tr></table>"
      ],
      "text/plain": [
       "\n",
       "#<Daru::DataFrame:70271718941880 @name = 593eb68a-e75a-4f29-9d54-a20f05d5183d @size = 3>\n",
       "                    A          B          C          D \n",
       "2013-01-04 0.20104215 0.05088271 0.16454075 0.08549837 \n",
       "2013-01-05 0.11604089 0.10806450 0.74603041 0.68896542 \n",
       "2013-01-06 0.34403221 0.06870794 0.13899407 0.15997746 \n"
      ]
     },
     "execution_count": 7,
     "metadata": {},
     "output_type": "execute_result"
    }
   ],
   "source": [
    "df.tail 3"
   ]
  },
  {
   "cell_type": "markdown",
   "metadata": {},
   "source": [
    "Display the index"
   ]
  },
  {
   "cell_type": "code",
   "execution_count": 8,
   "metadata": {
    "collapsed": false
   },
   "outputs": [
    {
     "data": {
      "text/plain": [
       "#<DateTimeIndex:70271743466460 offset=D periods=6 data=[2013-01-01T00:00:00+00:00...2013-01-06T00:00:00+00:00]>"
      ]
     },
     "execution_count": 8,
     "metadata": {},
     "output_type": "execute_result"
    }
   ],
   "source": [
    "df.index"
   ]
  },
  {
   "cell_type": "markdown",
   "metadata": {},
   "source": [
    "Display the columns"
   ]
  },
  {
   "cell_type": "code",
   "execution_count": 9,
   "metadata": {
    "collapsed": false
   },
   "outputs": [
    {
     "data": {
      "text/plain": [
       "#<Daru::Index:0x007fd2d4874778 @relation_hash={:A=>0, :B=>1, :C=>2, :D=>3}, @keys=[:A, :B, :C, :D], @size=4>"
      ]
     },
     "execution_count": 9,
     "metadata": {},
     "output_type": "execute_result"
    }
   ],
   "source": [
    "df.vectors"
   ]
  },
  {
   "cell_type": "markdown",
   "metadata": {},
   "source": [
    "Describe shows a quick statistic summary of your data"
   ]
  },
  {
   "cell_type": "code",
   "execution_count": 10,
   "metadata": {
    "collapsed": false
   },
   "outputs": [
    {
     "data": {
      "text/html": [
       "<table><tr><th colspan=\"5\">Daru::DataFrame:70271743336260  rows: 5  cols: 4</th></tr><tr><th></th><th>A</th><th>B</th><th>C</th><th>D</th></tr><tr><td>count</td><td>6</td><td>6</td><td>6</td><td>6</td></tr><tr><td>mean</td><td>0.31512529065443395</td><td>0.27841784270495157</td><td>0.4625499649060813</td><td>0.4179949971692356</td></tr><tr><td>std</td><td>0.2650062619483517</td><td>0.28881077729690136</td><td>0.3109349226649696</td><td>0.3066331017254366</td></tr><tr><td>min</td><td>0.061754467473337606</td><td>0.05088271170047556</td><td>0.13899407520672596</td><td>0.08549837640383548</td></tr><tr><td>max</td><td>0.7948152254767612</td><td>0.7378153376075303</td><td>0.9041210489574686</td><td>0.8694206502326989</td></tr></table>"
      ],
      "text/plain": [
       "\n",
       "#<Daru::DataFrame:70271743336260 @name = 4ba2b368-e721-47f9-b96c-5c716973895e @size = 5>\n",
       "                    A          B          C          D \n",
       "     count          6          6          6          6 \n",
       "      mean 0.31512529 0.27841784 0.46254996 0.41799499 \n",
       "       std 0.26500626 0.28881077 0.31093492 0.30663310 \n",
       "       min 0.06175446 0.05088271 0.13899407 0.08549837 \n",
       "       max 0.79481522 0.73781533 0.90412104 0.86942065 \n"
      ]
     },
     "execution_count": 10,
     "metadata": {},
     "output_type": "execute_result"
    }
   ],
   "source": [
    "df.describe"
   ]
  },
  {
   "cell_type": "markdown",
   "metadata": {},
   "source": [
    "Transposing your data"
   ]
  },
  {
   "cell_type": "code",
   "execution_count": 11,
   "metadata": {
    "collapsed": false
   },
   "outputs": [
    {
     "data": {
      "text/html": [
       "<table><tr><th colspan=\"7\">Daru::DataFrame:70271713782360  rows: 4  cols: 6</th></tr><tr><th></th><th>2013-01-01T00:00:00+00:00</th><th>2013-01-02T00:00:00+00:00</th><th>2013-01-03T00:00:00+00:00</th><th>2013-01-04T00:00:00+00:00</th><th>2013-01-05T00:00:00+00:00</th><th>2013-01-06T00:00:00+00:00</th></tr><tr><td>A</td><td>0.061754467473337606</td><td>0.3730667918557394</td><td>0.7948152254767612</td><td>0.20104215334808748</td><td>0.11604089423912954</td><td>0.34403221153354824</td></tr><tr><td>B</td><td>0.5399479735615317</td><td>0.7378153376075303</td><td>0.16508858475391092</td><td>0.05088271170047556</td><td>0.10806450181653031</td><td>0.06870794678973079</td></tr><tr><td>C</td><td>0.9041210489574686</td><td>0.47864410894135884</td><td>0.34296938347336964</td><td>0.16454075387233086</td><td>0.7460304189852336</td><td>0.13899407520672596</td></tr><tr><td>D</td><td>0.4115760120668863</td><td>0.2925320556038204</td><td>0.8694206502326989</td><td>0.08549837640383548</td><td>0.6889654239569857</td><td>0.15997746475118688</td></tr></table>"
      ],
      "text/plain": [
       "\n",
       "#<Daru::DataFrame:70271713782360 @name = 593eb68a-e75a-4f29-9d54-a20f05d5183d @size = 4>\n",
       "           2013-01-01 2013-01-02 2013-01-03 2013-01-04 2013-01-05 2013-01-06 \n",
       "         A 0.06175446 0.37306679 0.79481522 0.20104215 0.11604089 0.34403221 \n",
       "         B 0.53994797 0.73781533 0.16508858 0.05088271 0.10806450 0.06870794 \n",
       "         C 0.90412104 0.47864410 0.34296938 0.16454075 0.74603041 0.13899407 \n",
       "         D 0.41157601 0.29253205 0.86942065 0.08549837 0.68896542 0.15997746 \n"
      ]
     },
     "execution_count": 11,
     "metadata": {},
     "output_type": "execute_result"
    }
   ],
   "source": [
    "df.transpose"
   ]
  },
  {
   "cell_type": "markdown",
   "metadata": {},
   "source": [
    "Sorting by values"
   ]
  },
  {
   "cell_type": "code",
   "execution_count": 13,
   "metadata": {
    "collapsed": false
   },
   "outputs": [
    {
     "data": {
      "text/html": [
       "<table><tr><th colspan=\"5\">Daru::DataFrame:70271742619660  rows: 6  cols: 4</th></tr><tr><th></th><th>A</th><th>B</th><th>C</th><th>D</th></tr><tr><td>2013-01-04T00:00:00+00:00</td><td>0.20104215334808748</td><td>0.05088271170047556</td><td>0.16454075387233086</td><td>0.08549837640383548</td></tr><tr><td>2013-01-06T00:00:00+00:00</td><td>0.34403221153354824</td><td>0.06870794678973079</td><td>0.13899407520672596</td><td>0.15997746475118688</td></tr><tr><td>2013-01-05T00:00:00+00:00</td><td>0.11604089423912954</td><td>0.10806450181653031</td><td>0.7460304189852336</td><td>0.6889654239569857</td></tr><tr><td>2013-01-03T00:00:00+00:00</td><td>0.7948152254767612</td><td>0.16508858475391092</td><td>0.34296938347336964</td><td>0.8694206502326989</td></tr><tr><td>2013-01-01T00:00:00+00:00</td><td>0.061754467473337606</td><td>0.5399479735615317</td><td>0.9041210489574686</td><td>0.4115760120668863</td></tr><tr><td>2013-01-02T00:00:00+00:00</td><td>0.3730667918557394</td><td>0.7378153376075303</td><td>0.47864410894135884</td><td>0.2925320556038204</td></tr></table>"
      ],
      "text/plain": [
       "\n",
       "#<Daru::DataFrame:70271742619660 @name = 593eb68a-e75a-4f29-9d54-a20f05d5183d @size = 6>\n",
       "                    A          B          C          D \n",
       "2013-01-04 0.20104215 0.05088271 0.16454075 0.08549837 \n",
       "2013-01-06 0.34403221 0.06870794 0.13899407 0.15997746 \n",
       "2013-01-05 0.11604089 0.10806450 0.74603041 0.68896542 \n",
       "2013-01-03 0.79481522 0.16508858 0.34296938 0.86942065 \n",
       "2013-01-01 0.06175446 0.53994797 0.90412104 0.41157601 \n",
       "2013-01-02 0.37306679 0.73781533 0.47864410 0.29253205 \n"
      ]
     },
     "execution_count": 13,
     "metadata": {},
     "output_type": "execute_result"
    }
   ],
   "source": [
    "df.sort([:B])"
   ]
  },
  {
   "cell_type": "markdown",
   "metadata": {},
   "source": [
    "## Selection"
   ]
  },
  {
   "cell_type": "markdown",
   "metadata": {},
   "source": [
    "### Getting"
   ]
  },
  {
   "cell_type": "markdown",
   "metadata": {},
   "source": [
    "Selecting a single column, which yields a Daru::Vector, equivalent to df.A"
   ]
  },
  {
   "cell_type": "code",
   "execution_count": 27,
   "metadata": {
    "collapsed": false
   },
   "outputs": [
    {
     "data": {
      "text/html": [
       "<table><tr><th colspan=\"2\">Daru::Vector:70271742747160  size: 6</th></tr><tr><th> </th><th>nil</th></tr><tr><td>2013-01-01T00:00:00+00:00</td><td>0.061754467473337606</td></tr><tr><td>2013-01-02T00:00:00+00:00</td><td>0.3730667918557394</td></tr><tr><td>2013-01-03T00:00:00+00:00</td><td>0.7948152254767612</td></tr><tr><td>2013-01-04T00:00:00+00:00</td><td>0.20104215334808748</td></tr><tr><td>2013-01-05T00:00:00+00:00</td><td>0.11604089423912954</td></tr><tr><td>2013-01-06T00:00:00+00:00</td><td>0.34403221153354824</td></tr></table>"
      ],
      "text/plain": [
       "\n",
       "#<Daru::Vector:70271742747160 @name = nil @metadata = {} @size = 6 >\n",
       "                                      nil\n",
       "2013-01-01T00:00:00+ 0.061754467473337606\n",
       "2013-01-02T00:00:00+   0.3730667918557394\n",
       "2013-01-03T00:00:00+   0.7948152254767612\n",
       "2013-01-04T00:00:00+  0.20104215334808748\n",
       "2013-01-05T00:00:00+  0.11604089423912954\n",
       "2013-01-06T00:00:00+  0.34403221153354824\n"
      ]
     },
     "execution_count": 27,
     "metadata": {},
     "output_type": "execute_result"
    }
   ],
   "source": [
    "df[:A]"
   ]
  },
  {
   "cell_type": "code",
   "execution_count": 28,
   "metadata": {
    "collapsed": false
   },
   "outputs": [
    {
     "data": {
      "text/html": [
       "<table><tr><th colspan=\"2\">Daru::Vector:70271742747160  size: 6</th></tr><tr><th> </th><th>nil</th></tr><tr><td>2013-01-01T00:00:00+00:00</td><td>0.061754467473337606</td></tr><tr><td>2013-01-02T00:00:00+00:00</td><td>0.3730667918557394</td></tr><tr><td>2013-01-03T00:00:00+00:00</td><td>0.7948152254767612</td></tr><tr><td>2013-01-04T00:00:00+00:00</td><td>0.20104215334808748</td></tr><tr><td>2013-01-05T00:00:00+00:00</td><td>0.11604089423912954</td></tr><tr><td>2013-01-06T00:00:00+00:00</td><td>0.34403221153354824</td></tr></table>"
      ],
      "text/plain": [
       "\n",
       "#<Daru::Vector:70271742747160 @name = nil @metadata = {} @size = 6 >\n",
       "                                      nil\n",
       "2013-01-01T00:00:00+ 0.061754467473337606\n",
       "2013-01-02T00:00:00+   0.3730667918557394\n",
       "2013-01-03T00:00:00+   0.7948152254767612\n",
       "2013-01-04T00:00:00+  0.20104215334808748\n",
       "2013-01-05T00:00:00+  0.11604089423912954\n",
       "2013-01-06T00:00:00+  0.34403221153354824\n"
      ]
     },
     "execution_count": 28,
     "metadata": {},
     "output_type": "execute_result"
    }
   ],
   "source": [
    "df.A"
   ]
  },
  {
   "cell_type": "markdown",
   "metadata": {},
   "source": [
    "Selecting via [], which slices the rows."
   ]
  },
  {
   "cell_type": "code",
   "execution_count": 29,
   "metadata": {
    "collapsed": false
   },
   "outputs": [
    {
     "data": {
      "text/html": [
       "<table><tr><th colspan=\"5\">Daru::DataFrame:70271719516500  rows: 3  cols: 4</th></tr><tr><th></th><th>A</th><th>B</th><th>C</th><th>D</th></tr><tr><td>2013-01-01T00:00:00+00:00</td><td>0.061754467473337606</td><td>0.5399479735615317</td><td>0.9041210489574686</td><td>0.4115760120668863</td></tr><tr><td>2013-01-02T00:00:00+00:00</td><td>0.3730667918557394</td><td>0.7378153376075303</td><td>0.47864410894135884</td><td>0.2925320556038204</td></tr><tr><td>2013-01-03T00:00:00+00:00</td><td>0.7948152254767612</td><td>0.16508858475391092</td><td>0.34296938347336964</td><td>0.8694206502326989</td></tr></table>"
      ],
      "text/plain": [
       "\n",
       "#<Daru::DataFrame:70271719516500 @name = 593eb68a-e75a-4f29-9d54-a20f05d5183d @size = 3>\n",
       "                    A          B          C          D \n",
       "2013-01-01 0.06175446 0.53994797 0.90412104 0.41157601 \n",
       "2013-01-02 0.37306679 0.73781533 0.47864410 0.29253205 \n",
       "2013-01-03 0.79481522 0.16508858 0.34296938 0.86942065 \n"
      ]
     },
     "execution_count": 29,
     "metadata": {},
     "output_type": "execute_result"
    }
   ],
   "source": [
    "df.row[0..2]"
   ]
  },
  {
   "cell_type": "markdown",
   "metadata": {},
   "source": [
    "### Selection by Label"
   ]
  },
  {
   "cell_type": "markdown",
   "metadata": {},
   "source": [
    "Select via the position of the passed integers"
   ]
  },
  {
   "cell_type": "code",
   "execution_count": 31,
   "metadata": {
    "collapsed": false
   },
   "outputs": [
    {
     "data": {
      "text/html": [
       "<table><tr><th colspan=\"2\">Daru::Vector:70271743661780  size: 4</th></tr><tr><th> </th><th>3</th></tr><tr><td>A</td><td>0.20104215334808748</td></tr><tr><td>B</td><td>0.05088271170047556</td></tr><tr><td>C</td><td>0.16454075387233086</td></tr><tr><td>D</td><td>0.08549837640383548</td></tr></table>"
      ],
      "text/plain": [
       "\n",
       "#<Daru::Vector:70271743661780 @name = 3 @metadata = {} @size = 4 >\n",
       "                                      3\n",
       "                  A 0.20104215334808748\n",
       "                  B 0.05088271170047556\n",
       "                  C 0.16454075387233086\n",
       "                  D 0.08549837640383548\n"
      ]
     },
     "execution_count": 31,
     "metadata": {},
     "output_type": "execute_result"
    }
   ],
   "source": [
    "df.row[3]"
   ]
  },
  {
   "cell_type": "markdown",
   "metadata": {},
   "source": [
    "By integer slices, acting similar to numpy/python"
   ]
  },
  {
   "cell_type": "code",
   "execution_count": 36,
   "metadata": {
    "collapsed": false
   },
   "outputs": [
    {
     "data": {
      "text/html": [
       "<table><tr><th colspan=\"3\">Daru::DataFrame:70271718863300  rows: 2  cols: 2</th></tr><tr><th></th><th>A</th><th>B</th></tr><tr><td>2013-01-04T00:00:00+00:00</td><td>0.20104215334808748</td><td>0.05088271170047556</td></tr><tr><td>2013-01-05T00:00:00+00:00</td><td>0.11604089423912954</td><td>0.10806450181653031</td></tr></table>"
      ],
      "text/plain": [
       "\n",
       "#<Daru::DataFrame:70271718863300 @name = 593eb68a-e75a-4f29-9d54-a20f05d5183d @size = 2>\n",
       "                    A          B \n",
       "2013-01-04 0.20104215 0.05088271 \n",
       "2013-01-05 0.11604089 0.10806450 \n"
      ]
     },
     "execution_count": 36,
     "metadata": {},
     "output_type": "execute_result"
    }
   ],
   "source": [
    "df.row[3..4][0..1]"
   ]
  },
  {
   "cell_type": "markdown",
   "metadata": {},
   "source": [
    "### Boolean Indexing"
   ]
  },
  {
   "cell_type": "markdown",
   "metadata": {},
   "source": [
    "Using a single column’s values to select data."
   ]
  },
  {
   "cell_type": "code",
   "execution_count": 51,
   "metadata": {
    "collapsed": false
   },
   "outputs": [
    {
     "data": {
      "text/html": [
       "<table><tr><th colspan=\"5\">Daru::DataFrame:70271744201740  rows: 5  cols: 4</th></tr><tr><th></th><th>A</th><th>B</th><th>C</th><th>D</th></tr><tr><td>2013-01-02T00:00:00+00:00</td><td>0.3730667918557394</td><td>0.7378153376075303</td><td>0.47864410894135884</td><td>0.2925320556038204</td></tr><tr><td>2013-01-03T00:00:00+00:00</td><td>0.7948152254767612</td><td>0.16508858475391092</td><td>0.34296938347336964</td><td>0.8694206502326989</td></tr><tr><td>2013-01-04T00:00:00+00:00</td><td>0.20104215334808748</td><td>0.05088271170047556</td><td>0.16454075387233086</td><td>0.08549837640383548</td></tr><tr><td>2013-01-05T00:00:00+00:00</td><td>0.11604089423912954</td><td>0.10806450181653031</td><td>0.7460304189852336</td><td>0.6889654239569857</td></tr><tr><td>2013-01-06T00:00:00+00:00</td><td>0.34403221153354824</td><td>0.06870794678973079</td><td>0.13899407520672596</td><td>0.15997746475118688</td></tr></table>"
      ],
      "text/plain": [
       "\n",
       "#<Daru::DataFrame:70271744201740 @name = 0d437619-7fbe-419b-a2ae-1817a89747ca @size = 5>\n",
       "                    A          B          C          D \n",
       "2013-01-02 0.37306679 0.73781533 0.47864410 0.29253205 \n",
       "2013-01-03 0.79481522 0.16508858 0.34296938 0.86942065 \n",
       "2013-01-04 0.20104215 0.05088271 0.16454075 0.08549837 \n",
       "2013-01-05 0.11604089 0.10806450 0.74603041 0.68896542 \n",
       "2013-01-06 0.34403221 0.06870794 0.13899407 0.15997746 \n"
      ]
     },
     "execution_count": 51,
     "metadata": {},
     "output_type": "execute_result"
    }
   ],
   "source": [
    "df.where(df.A.gt(0.1))"
   ]
  },
  {
   "cell_type": "code",
   "execution_count": null,
   "metadata": {
    "collapsed": true
   },
   "outputs": [],
   "source": []
  }
 ],
 "metadata": {
  "kernelspec": {
   "display_name": "Ruby 2.3.1",
   "language": "ruby",
   "name": "ruby"
  },
  "language_info": {
   "file_extension": ".rb",
   "mimetype": "application/x-ruby",
   "name": "ruby",
   "version": "2.3.1"
  }
 },
 "nbformat": 4,
 "nbformat_minor": 0
}
